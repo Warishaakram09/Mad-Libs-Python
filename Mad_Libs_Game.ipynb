{
  "nbformat": 4,
  "nbformat_minor": 0,
  "metadata": {
    "colab": {
      "provenance": []
    },
    "kernelspec": {
      "name": "python3",
      "display_name": "Python 3"
    },
    "language_info": {
      "name": "python"
    }
  },
  "cells": [
    {
      "cell_type": "code",
      "source": [
        "import random\n",
        "\n",
        "# Random words lists\n",
        "random_things = [\"ball\", \"cat\", \"phone\", \"car\", \"robot\"]\n",
        "random_actions = [\"jumped\", \"ran\", \"danced\", \"slept\", \"laughed\"]\n",
        "random_places = [\"park\", \"school\", \"market\", \"beach\", \"moon\"]\n",
        "\n",
        "# User Inputs (If left empty, random words are used)\n",
        "name = input(\"Enter your name: \")\n",
        "thing = input(\"Enter a thing: \") or random.choice(random_things)\n",
        "action = input(\"Enter an action: \") or random.choice(random_actions)\n",
        "place = input(\"Enter a place: \") or random.choice(random_places)\n",
        "\n",
        "# Mad Libs Story\n",
        "story = f\"\"\"\n",
        "One day, {name} went to the {place}.\n",
        "There, they saw a {thing}. Suddenly, the {thing} {action}!\n",
        "{name} was so surprised and started laughing.\n",
        "\"\"\"\n",
        "\n",
        "# Print the story\n",
        "print(\"\\n✨ Your Story ✨\")\n",
        "print(story)\n",
        "\n",
        "# Save to a file\n",
        "with open(\"mad_libs_story.txt\", \"w\") as file:\n",
        "    file.write(story)\n",
        "\n",
        "print(\"\\n✅ Your story is saved in 'mad_libs_story.txt'!\")\n"
      ],
      "metadata": {
        "colab": {
          "base_uri": "https://localhost:8080/"
        },
        "id": "O5dbF1bHl_lD",
        "outputId": "37e33f1c-cb27-4202-f106-be964d3c0f94"
      },
      "execution_count": 8,
      "outputs": [
        {
          "output_type": "stream",
          "name": "stdout",
          "text": [
            "Enter your name: warisha\n",
            "Enter a thing: cat\n",
            "Enter an action: learning python\n",
            "Enter a place: cafe\n",
            "\n",
            "✨ Your Story ✨\n",
            "\n",
            "One day, warisha went to the cafe.\n",
            "There, they saw a cat. Suddenly, the cat learning python!\n",
            "warisha was so surprised and started laughing.\n",
            "\n",
            "\n",
            "✅ Your story is saved in 'mad_libs_story.txt'!\n"
          ]
        }
      ]
    }
  ]
}